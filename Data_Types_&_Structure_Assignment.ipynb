{
  "nbformat": 4,
  "nbformat_minor": 0,
  "metadata": {
    "colab": {
      "provenance": []
    },
    "kernelspec": {
      "name": "python3",
      "display_name": "Python 3"
    },
    "language_info": {
      "name": "python"
    }
  },
  "cells": [
    {
      "cell_type": "markdown",
      "source": [
        "### **Data Types and Structures Questions**"
      ],
      "metadata": {
        "id": "61pjNYcUCtia"
      }
    },
    {
      "cell_type": "markdown",
      "source": [
        "**1.What are data structures, and why are they important?**\n",
        "\n",
        "Ans. Data structures are fundamental in computer science, acting as specialized formats for organizing, storing, and retrieving data efficiently. They are crucial for managing data in a way that makes it easier to understand, access, and manipulate, both for users and for machines. By organizing data in specific ways, data structures enable programs to perform operations more efficiently, such as searching, sorting, and updating."
      ],
      "metadata": {
        "id": "ZNtx8xV8-ClY"
      }
    },
    {
      "cell_type": "markdown",
      "source": [
        "**2.Explain the difference between mutable and immutable data types with examples?**\n",
        "\n",
        "Ans. Mutable data types can be modified after their creation, while immutable data types cannot. Mutable types allow in-place changes, while immutable types require creating new objects to represent changes. Examples for mutable data types >> Lists, dictionaries, and sets and for immutable Data Types they are >> Strings, tuples, frozensets, and numbers."
      ],
      "metadata": {
        "id": "PulBGlpj_Plc"
      }
    },
    {
      "cell_type": "markdown",
      "source": [
        "**3.What are the main differences between lists and tuples in Python?**\n",
        "\n",
        "Ans. The main difference between lists and tuples in Python is that lists are mutable, while tuples are immutable. This means that lists can be changed, but tuples cannot."
      ],
      "metadata": {
        "id": "7fyXV2ch_10B"
      }
    },
    {
      "cell_type": "markdown",
      "source": [
        "**4.Describe how dictionaries store data?**\n",
        "\n",
        "Ans. Dictionaries are unordered collections of data and are represented with curly brackets { } . Like lists, dictionaries are mutable(changeable) and indexed. With dictionaries, data is stored in a key:value format. In this example, myCar is the variable that we have assigned our dictionary to."
      ],
      "metadata": {
        "id": "-oTyVzil_1xp"
      }
    },
    {
      "cell_type": "markdown",
      "source": [
        "**5.Why might you use a set instead of a list in Python?**\n",
        "\n",
        "Ans. Because sets cannot have multiple occurrences of the same element, it makes sets highly useful to efficiently remove duplicate values from a list or tuple and to perform common math operations like unions and intersections."
      ],
      "metadata": {
        "id": "sD8F-f_K_1vR"
      }
    },
    {
      "cell_type": "markdown",
      "source": [
        "**6.What is a string in Python, and how is it different from a list?**\n",
        "\n",
        "Ans. A string is a sequence of characters between single or double quotes. A list is a sequence of items, where each item could be anything (an integer, a float, a string, etc)."
      ],
      "metadata": {
        "id": "ODW1YTL3_1s6"
      }
    },
    {
      "cell_type": "markdown",
      "source": [
        "**7.How do tuples ensure data integrity in Python?**\n",
        "\n",
        "Ans. Tuples are immutable to ensure that their contents remain constant throughout their lifecycle, guaranteeing data integrity and reliability. This immutability allows tuples to be used as keys in dictionaries and elements in sets, as they can be hashed."
      ],
      "metadata": {
        "id": "K2HeOBlP_1qz"
      }
    },
    {
      "cell_type": "markdown",
      "source": [
        "**8.What is a hash table, and how does it relate to dictionaries in Python?**\n",
        "\n",
        "Ans. In Python, a hash table is a data structure that's implemented as a dictionary. A hash table is a way to organize data into key-value pairs, making it easy to find and access information.\n"
      ],
      "metadata": {
        "id": "pLM4IKlNA_kC"
      }
    },
    {
      "cell_type": "markdown",
      "source": [
        "**9.Can lists contain different data types in Python?**\n",
        "\n",
        "Ans. However, in Python, lists can contain heterogeneous data types and objects. For instance, integers, strings, and even functions can be stored within the same list"
      ],
      "metadata": {
        "id": "17lVluAIA_iW"
      }
    },
    {
      "cell_type": "markdown",
      "source": [
        "**10.Explain why strings are immutable in Python?**\n",
        "\n",
        "Ans. Python strings are \"immutable\" which means they cannot be changed after they are created (Java strings also use this immutable style). Since strings can't be changed, we construct *new* strings as we go to represent computed values."
      ],
      "metadata": {
        "id": "62SPusB1A_f2"
      }
    },
    {
      "cell_type": "markdown",
      "source": [
        "**11.What advantages do dictionaries offer over lists for certain tasks?**\n",
        "\n",
        "Ans. Dictionaries provide faster lookups compared to lists when searching by key, as they have an average complexity of O(1), while lists require O(n) in the worst case. Lists are faster for index-based access, as retrieving an element by index takes O(1), whereas dictionary lookups require computing a hash."
      ],
      "metadata": {
        "id": "8IHeV6gBA_dr"
      }
    },
    {
      "cell_type": "markdown",
      "source": [
        "**12.Describe a scenario where using a tuple would be preferable over a list?**\n",
        "\n",
        "Ans. Tuples are immutable. Hence, they are primarily used to store data that doesn't change frequently. Any operation can store data in a tuple when you don't want it to change. Tuples are great to use if you want the data in your collection to be read-only, never to change, and always remain the same and constant."
      ],
      "metadata": {
        "id": "yMe55pgSA_bX"
      }
    },
    {
      "cell_type": "markdown",
      "source": [
        "**13.How do sets handle duplicate values in Python?**\n",
        "\n",
        "Ans. Here are some of the features of sets in Python: Duplicate items are not allowed. If items appear multiple times, only one will be recognized in the set. The items in a set are unordered"
      ],
      "metadata": {
        "id": "nsOYGfMzA_ZG"
      }
    },
    {
      "cell_type": "markdown",
      "source": [
        "**14.How does the “in” keyword work differently for lists and dictionaries?**\n",
        "\n",
        "Ans. As mentioned above, the in operation for the dictionary tests on keys. The key of the dictionary is a unique value as well as the set, and the execution time is about the same as for sets. On the other hand, dictionary values can be duplicated like a list."
      ],
      "metadata": {
        "id": "5Yf56nafA_W2"
      }
    },
    {
      "cell_type": "markdown",
      "source": [
        "**15.Can you modify the elements of a tuple? Explain why or why not?**\n",
        "\n",
        " Ans. No, you cannot modify the elements of a tuple in Python because tuples are immutable. This means that once a tuple is created, you can't change, add, or remove its elements."
      ],
      "metadata": {
        "id": "thsk3IDSA_Um"
      }
    },
    {
      "cell_type": "markdown",
      "source": [
        "**16.What is a nested dictionary, and give an example of its use case?**\n",
        "\n",
        "Ans. A nested dictionary in Python is a dictionary where the values are themselves dictionaries. This allows for representing hierarchical or multi-layered data structures. A use case for nested dictionaries is organizing employee records, where you might store each employee's information (name, job title, etc.) as a nested dictionary, grouped by department."
      ],
      "metadata": {
        "id": "Q_D4j9WOB8D7"
      }
    },
    {
      "cell_type": "markdown",
      "source": [
        "**17.Describe the time complexity of accessing elements in a dictionary?**\n",
        "\n",
        "Ans. The time complexity of retrieving a value by its key in a dictionary is O(1). This is because dictionaries use a hash table internally which allows constant time lookup. Why O(1)? Hash tables use the hash of the key to find the memory location which enables direct access."
      ],
      "metadata": {
        "id": "kXqtpFCoB7-l"
      }
    },
    {
      "cell_type": "markdown",
      "source": [
        "**18.In what situations are lists preferred over dictionaries?**\n",
        "\n",
        "Ans. For quick data look-ups, configurations, or caches, favor dictionaries. For ordered collections and sequence operations, such as maintaining a stack or queue, lists are more suitable."
      ],
      "metadata": {
        "id": "ZWeZOiZWCXKC"
      }
    },
    {
      "cell_type": "markdown",
      "source": [
        "**19.Why are dictionaries considered unordered, and how does that affect data retrieval?**\n",
        "\n",
        "Ans. A dictionary is termed an unordered collection of objects because dictionaries do not maintain any inherent order of the items based on when they were added. In older versions of Python (before 3.7), dictionaries did not preserve insertion order at all."
      ],
      "metadata": {
        "id": "jU7J9tmsCXBa"
      }
    },
    {
      "cell_type": "markdown",
      "source": [
        "**20.Explain the difference between a list and a dictionary in terms of data retrieval?**\n",
        "\n",
        "Ans. In terms of data retrieval, lists access elements by numerical index, while dictionaries access elements by unique keys. Lists are ordered, so accessing elements by position is efficient. Dictionaries are unordered but provide fast lookup times based on keys, says Technogeeks."
      ],
      "metadata": {
        "id": "ZjILdedxA_SX"
      }
    },
    {
      "cell_type": "markdown",
      "source": [
        "**Practical Questions**"
      ],
      "metadata": {
        "id": "CduW8gdRDamv"
      }
    },
    {
      "cell_type": "markdown",
      "source": [
        "**1.Write a code to create a string with your name and print it?**"
      ],
      "metadata": {
        "id": "83IROGqfDesv"
      }
    },
    {
      "cell_type": "code",
      "source": [
        "stri=\"Vishal\"\n",
        "print(stri)"
      ],
      "metadata": {
        "colab": {
          "base_uri": "https://localhost:8080/"
        },
        "id": "MbRWCExZCpuE",
        "outputId": "aff85817-7ba9-4ec0-fd98-ae507603c034"
      },
      "execution_count": 1,
      "outputs": [
        {
          "output_type": "stream",
          "name": "stdout",
          "text": [
            "Vishal\n"
          ]
        }
      ]
    },
    {
      "cell_type": "markdown",
      "source": [
        "**2.Write a code to find the length of the string \"Hello World\"**"
      ],
      "metadata": {
        "id": "5d0LX4xIDz2m"
      }
    },
    {
      "cell_type": "code",
      "source": [
        "a=\"Hello World\"\n",
        "len(a)"
      ],
      "metadata": {
        "colab": {
          "base_uri": "https://localhost:8080/"
        },
        "id": "IYQnMZ48Drg7",
        "outputId": "532e1833-c9cf-4ae5-ea23-50964f8b1537"
      },
      "execution_count": 2,
      "outputs": [
        {
          "output_type": "execute_result",
          "data": {
            "text/plain": [
              "11"
            ]
          },
          "metadata": {},
          "execution_count": 2
        }
      ]
    },
    {
      "cell_type": "markdown",
      "source": [
        "**3.Write a code to slice the first 3 characters from the string \"Python Programming\".**"
      ],
      "metadata": {
        "id": "-QPz_FtiD-Xl"
      }
    },
    {
      "cell_type": "code",
      "source": [
        "s = \"Hello, Python!\"\n",
        "print(s[0:5])"
      ],
      "metadata": {
        "colab": {
          "base_uri": "https://localhost:8080/"
        },
        "id": "VzXzA7-ND9F7",
        "outputId": "d54241a1-985f-4c17-fefc-62cacee5f86d"
      },
      "execution_count": 3,
      "outputs": [
        {
          "output_type": "stream",
          "name": "stdout",
          "text": [
            "Hello\n"
          ]
        }
      ]
    },
    {
      "cell_type": "markdown",
      "source": [
        "**4.Write a code to convert the string \"hello\" to uppercase.**"
      ],
      "metadata": {
        "id": "9TiJSfRlEa5U"
      }
    },
    {
      "cell_type": "code",
      "source": [
        "a=\"hello\"\n",
        "a.upper()"
      ],
      "metadata": {
        "colab": {
          "base_uri": "https://localhost:8080/",
          "height": 35
        },
        "id": "E8HGSerqEZSX",
        "outputId": "932f151d-f71e-47c0-8b93-221db1981fb6"
      },
      "execution_count": 4,
      "outputs": [
        {
          "output_type": "execute_result",
          "data": {
            "text/plain": [
              "'HELLO'"
            ],
            "application/vnd.google.colaboratory.intrinsic+json": {
              "type": "string"
            }
          },
          "metadata": {},
          "execution_count": 4
        }
      ]
    },
    {
      "cell_type": "markdown",
      "source": [
        "**5.Write a code to replace the word \"apple\" with \"orange\" in the string \"I like apple\".**"
      ],
      "metadata": {
        "id": "v_gckzCCEmRU"
      }
    },
    {
      "cell_type": "code",
      "source": [
        "str_01=[\"I like apple\"]\n",
        "str_01[0]=\"I like orange\"\n",
        "str_01"
      ],
      "metadata": {
        "colab": {
          "base_uri": "https://localhost:8080/"
        },
        "id": "0OOKXg54EkMf",
        "outputId": "7c4dc0a4-636c-4ec8-bf5d-55212cf4f874"
      },
      "execution_count": 16,
      "outputs": [
        {
          "output_type": "execute_result",
          "data": {
            "text/plain": [
              "['I like orange']"
            ]
          },
          "metadata": {},
          "execution_count": 16
        }
      ]
    },
    {
      "cell_type": "markdown",
      "source": [
        "**6.Write a code to create a list with numbers 1 to 5 and print it.**"
      ],
      "metadata": {
        "id": "359X476SGYSH"
      }
    },
    {
      "cell_type": "code",
      "source": [
        "list_01=[1,2,3,4,5]\n",
        "print(list_01)"
      ],
      "metadata": {
        "colab": {
          "base_uri": "https://localhost:8080/"
        },
        "id": "7fbtyDWWE4be",
        "outputId": "d2493c3a-982d-4c9e-ae64-8d51f5ff2ed0"
      },
      "execution_count": 17,
      "outputs": [
        {
          "output_type": "stream",
          "name": "stdout",
          "text": [
            "[1, 2, 3, 4, 5]\n"
          ]
        }
      ]
    },
    {
      "cell_type": "markdown",
      "source": [
        "**7.Write a code to append the number 10 to the list [1, 2, 3, 4].**"
      ],
      "metadata": {
        "id": "bGyxlF1ZGmD-"
      }
    },
    {
      "cell_type": "code",
      "source": [
        "my_list = [1, 2, 3, 4]\n",
        "my_list.append(10)\n",
        "print(my_list)"
      ],
      "metadata": {
        "colab": {
          "base_uri": "https://localhost:8080/"
        },
        "id": "kwj6O66_GjB5",
        "outputId": "b48472eb-8ed8-4c6f-a79e-17233aace65a"
      },
      "execution_count": 18,
      "outputs": [
        {
          "output_type": "stream",
          "name": "stdout",
          "text": [
            "[1, 2, 3, 4, 10]\n"
          ]
        }
      ]
    },
    {
      "cell_type": "markdown",
      "source": [
        "**8.Write a code to remove the number 3 from the list [1, 2, 3, 4, 5].**"
      ],
      "metadata": {
        "id": "yKucPxbDGw0V"
      }
    },
    {
      "cell_type": "code",
      "source": [
        "list_01=[1,2,3,4,5]\n",
        "list_01.remove(3)\n",
        "list_01"
      ],
      "metadata": {
        "colab": {
          "base_uri": "https://localhost:8080/"
        },
        "id": "s0I8omhQGvso",
        "outputId": "ee13887d-b546-424c-ffb8-f904f0cbcb5b"
      },
      "execution_count": 20,
      "outputs": [
        {
          "output_type": "execute_result",
          "data": {
            "text/plain": [
              "[1, 2, 4, 5]"
            ]
          },
          "metadata": {},
          "execution_count": 20
        }
      ]
    },
    {
      "cell_type": "markdown",
      "source": [
        "**9.Write a code to access the second element in the list ['a', 'b', 'c', 'd'].**"
      ],
      "metadata": {
        "id": "hRTD7FD1HOPM"
      }
    },
    {
      "cell_type": "code",
      "source": [
        "list_03=['a','b','c','d']\n",
        "list_03[1]"
      ],
      "metadata": {
        "colab": {
          "base_uri": "https://localhost:8080/",
          "height": 35
        },
        "id": "M7c83_rBHLV_",
        "outputId": "6ba93f0d-b55c-4053-b4af-5ba4851f134c"
      },
      "execution_count": 21,
      "outputs": [
        {
          "output_type": "execute_result",
          "data": {
            "text/plain": [
              "'b'"
            ],
            "application/vnd.google.colaboratory.intrinsic+json": {
              "type": "string"
            }
          },
          "metadata": {},
          "execution_count": 21
        }
      ]
    },
    {
      "cell_type": "markdown",
      "source": [
        "**10.Write a code to reverse the list [10, 20, 30, 40, 50].**"
      ],
      "metadata": {
        "id": "z35dEogdHlCr"
      }
    },
    {
      "cell_type": "code",
      "source": [
        "list_04=[10,20,30,40,50]\n",
        "list_04.reverse()\n",
        "list_04"
      ],
      "metadata": {
        "colab": {
          "base_uri": "https://localhost:8080/"
        },
        "id": "n81Len52HjSm",
        "outputId": "8025df33-c742-4ac6-bdd9-4dff7d46fa4d"
      },
      "execution_count": 24,
      "outputs": [
        {
          "output_type": "execute_result",
          "data": {
            "text/plain": [
              "[50, 40, 30, 20, 10]"
            ]
          },
          "metadata": {},
          "execution_count": 24
        }
      ]
    },
    {
      "cell_type": "markdown",
      "source": [
        "**11.Write a code to create a tuple with the elements 100, 200, 300 and print it.**"
      ],
      "metadata": {
        "id": "tIzxJYe6H0ii"
      }
    },
    {
      "cell_type": "code",
      "source": [
        "tup_01=(100,200,300)\n",
        "print(tup_01)"
      ],
      "metadata": {
        "colab": {
          "base_uri": "https://localhost:8080/"
        },
        "id": "ayG1osM_HvrV",
        "outputId": "54f8f9f0-730d-4787-bad1-5a7b68de4ac5"
      },
      "execution_count": 27,
      "outputs": [
        {
          "output_type": "stream",
          "name": "stdout",
          "text": [
            "(100, 200, 300)\n"
          ]
        }
      ]
    },
    {
      "cell_type": "markdown",
      "source": [
        "**12.Write a code to access the second-to-last element of the tuple ('red', 'green', 'blue', 'yellow').**"
      ],
      "metadata": {
        "id": "1bbFwfwXIGYp"
      }
    },
    {
      "cell_type": "code",
      "source": [
        "tup_02=('red','green','blue','yellow')\n",
        "tup_02[1:4]"
      ],
      "metadata": {
        "colab": {
          "base_uri": "https://localhost:8080/"
        },
        "id": "oQzMxwwPH-vN",
        "outputId": "5f52f135-43db-44ef-d671-b31bacd9e528"
      },
      "execution_count": 29,
      "outputs": [
        {
          "output_type": "execute_result",
          "data": {
            "text/plain": [
              "('green', 'blue', 'yellow')"
            ]
          },
          "metadata": {},
          "execution_count": 29
        }
      ]
    },
    {
      "cell_type": "markdown",
      "source": [
        "**13.Write a code to find the minimum number in the tuple (10, 20, 5, 15).**"
      ],
      "metadata": {
        "id": "FepvP6aUId9o"
      }
    },
    {
      "cell_type": "code",
      "source": [
        "tup_03 = (10, 20, 5, 15)\n",
        "min_number = min(my_tuple)\n",
        "min_number"
      ],
      "metadata": {
        "colab": {
          "base_uri": "https://localhost:8080/"
        },
        "id": "DgGyuQgQIY98",
        "outputId": "6332b741-b694-4e6a-ebb7-fd1d7ab9670a"
      },
      "execution_count": 34,
      "outputs": [
        {
          "output_type": "execute_result",
          "data": {
            "text/plain": [
              "5"
            ]
          },
          "metadata": {},
          "execution_count": 34
        }
      ]
    },
    {
      "cell_type": "markdown",
      "source": [
        "**14.Write a code to find the index of the element \"cat\" in the tuple ('dog', 'cat', 'rabbit').**"
      ],
      "metadata": {
        "id": "dXq_hA9WI6uX"
      }
    },
    {
      "cell_type": "code",
      "source": [
        "tup_04=('dog', 'cat', 'rabbit')\n",
        "tup_04.index('cat')\n"
      ],
      "metadata": {
        "colab": {
          "base_uri": "https://localhost:8080/"
        },
        "id": "bsulTCGuIpUT",
        "outputId": "790df3e1-5896-4a02-dfb5-9d31e5256606"
      },
      "execution_count": 35,
      "outputs": [
        {
          "output_type": "execute_result",
          "data": {
            "text/plain": [
              "1"
            ]
          },
          "metadata": {},
          "execution_count": 35
        }
      ]
    },
    {
      "cell_type": "markdown",
      "source": [
        "**15.Write a code to create a tuple containing three different fruits and check if \"kiwi\" is in it.**"
      ],
      "metadata": {
        "id": "DppCWNxoJSwu"
      }
    },
    {
      "cell_type": "code",
      "source": [
        "tup_05=('banana','apple','kiwi')\n",
        "if 'kiwi' in tup_05:\n",
        "  print(\"kiwi present\")\n",
        "else:\n",
        "  print(\"n/a\")"
      ],
      "metadata": {
        "colab": {
          "base_uri": "https://localhost:8080/"
        },
        "id": "JzPzQgGAJRHO",
        "outputId": "96a85a8e-32f1-4661-91a0-e18d971ee87f"
      },
      "execution_count": 36,
      "outputs": [
        {
          "output_type": "stream",
          "name": "stdout",
          "text": [
            "kiwi present\n"
          ]
        }
      ]
    },
    {
      "cell_type": "markdown",
      "source": [
        "**16.Write a code to create a set with the elements 'a', 'b', 'c' and print it.**"
      ],
      "metadata": {
        "id": "AWrjziYXJ3vU"
      }
    },
    {
      "cell_type": "code",
      "source": [
        "set_01={'a','b','c'}\n",
        "print(set_01)"
      ],
      "metadata": {
        "colab": {
          "base_uri": "https://localhost:8080/"
        },
        "id": "XdEaqVLYJ1F_",
        "outputId": "f142f81c-fc25-42bb-b296-c223f2051dd0"
      },
      "execution_count": 37,
      "outputs": [
        {
          "output_type": "stream",
          "name": "stdout",
          "text": [
            "{'a', 'b', 'c'}\n"
          ]
        }
      ]
    },
    {
      "cell_type": "markdown",
      "source": [
        "**17.Write a code to clear all elements from the set {1, 2, 3, 4, 5}.**"
      ],
      "metadata": {
        "id": "FrA_sJ-3KDMc"
      }
    },
    {
      "cell_type": "code",
      "source": [
        "set_02={1,2,3,4,5}\n",
        "set_02.clear()\n",
        "print(set_02)"
      ],
      "metadata": {
        "colab": {
          "base_uri": "https://localhost:8080/"
        },
        "id": "LQj2sBncKB-X",
        "outputId": "36ef150d-516f-4d84-c2b1-d26cbd0458e9"
      },
      "execution_count": 44,
      "outputs": [
        {
          "output_type": "stream",
          "name": "stdout",
          "text": [
            "set()\n"
          ]
        }
      ]
    },
    {
      "cell_type": "markdown",
      "source": [
        "**18.Write a code to remove the element 4 from the set {1, 2, 3, 4}.**"
      ],
      "metadata": {
        "id": "HeWcfxEzKifb"
      }
    },
    {
      "cell_type": "code",
      "source": [
        "set_03={1,2,3,4}\n",
        "set_03.remove(4)\n",
        "set_03"
      ],
      "metadata": {
        "colab": {
          "base_uri": "https://localhost:8080/"
        },
        "id": "b0dERAZrKlKy",
        "outputId": "6446b308-331e-454e-c624-776371b88fa1"
      },
      "execution_count": 47,
      "outputs": [
        {
          "output_type": "execute_result",
          "data": {
            "text/plain": [
              "{1, 2, 3}"
            ]
          },
          "metadata": {},
          "execution_count": 47
        }
      ]
    },
    {
      "cell_type": "markdown",
      "source": [
        "**19.Write a code to find the union of two sets {1, 2, 3} and {3, 4, 5}.**"
      ],
      "metadata": {
        "id": "Aaqyq6z0KwZi"
      }
    },
    {
      "cell_type": "code",
      "source": [
        "set_1={1,2,3}\n",
        "set_2={3,4,5}\n",
        "print(set_1.union(set_2))"
      ],
      "metadata": {
        "colab": {
          "base_uri": "https://localhost:8080/"
        },
        "id": "HJGuTvVHKNRW",
        "outputId": "432ecad4-a602-4f1b-86ae-7d10e071df8b"
      },
      "execution_count": 49,
      "outputs": [
        {
          "output_type": "stream",
          "name": "stdout",
          "text": [
            "{1, 2, 3, 4, 5}\n"
          ]
        }
      ]
    },
    {
      "cell_type": "markdown",
      "source": [
        "**20.Write a code to find the intersection of two sets {1, 2, 3} and {2, 3, 4}.**"
      ],
      "metadata": {
        "id": "4Vpp6JO-LQCx"
      }
    },
    {
      "cell_type": "code",
      "source": [
        "set_3={1,2,3}\n",
        "set_4={2,3,4}\n",
        "print(set_3.intersection(set_4))"
      ],
      "metadata": {
        "colab": {
          "base_uri": "https://localhost:8080/"
        },
        "id": "aC91zu7CLWCb",
        "outputId": "c5dfb819-2679-441b-8641-5737d8612a07"
      },
      "execution_count": 50,
      "outputs": [
        {
          "output_type": "stream",
          "name": "stdout",
          "text": [
            "{2, 3}\n"
          ]
        }
      ]
    },
    {
      "cell_type": "markdown",
      "source": [
        "**21.Write a code to create a dictionary with the keys \"name\", \"age\", and \"city\", and print it.**"
      ],
      "metadata": {
        "id": "cO3aJrHHLgk4"
      }
    },
    {
      "cell_type": "code",
      "source": [
        "dics_01={\"name\":\"vishal\",'age':\"27\",'city':\"jaipur\"}\n",
        "print(dics_01)"
      ],
      "metadata": {
        "colab": {
          "base_uri": "https://localhost:8080/"
        },
        "id": "--omrBa2LfXC",
        "outputId": "8530e372-950e-40da-b4a2-8e7f112f39c6"
      },
      "execution_count": 71,
      "outputs": [
        {
          "output_type": "stream",
          "name": "stdout",
          "text": [
            "{'name': 'vishal', 'age': '27', 'city': 'jaipur'}\n"
          ]
        }
      ]
    },
    {
      "cell_type": "markdown",
      "source": [
        "**22.Write a code to add a new key-value pair \"country\": \"USA\" to the dictionary {'name': 'John', 'age': 25}.**"
      ],
      "metadata": {
        "id": "hVc6JP63L_ZH"
      }
    },
    {
      "cell_type": "code",
      "source": [
        "dics_02={'name':'John','age':25}\n",
        "dics_02['country']='USA'\n",
        "dics_02"
      ],
      "metadata": {
        "colab": {
          "base_uri": "https://localhost:8080/"
        },
        "id": "HkM35MMxL6S5",
        "outputId": "5951d4ab-e894-47b0-8de4-bbbd6977c3f4"
      },
      "execution_count": 69,
      "outputs": [
        {
          "output_type": "execute_result",
          "data": {
            "text/plain": [
              "{'name': 'John', 'age': 25, 'country': 'USA'}"
            ]
          },
          "metadata": {},
          "execution_count": 69
        }
      ]
    },
    {
      "cell_type": "markdown",
      "source": [
        "**23.Write a code to access the value associated with the key \"name\" in the dictionary {'name': 'Alice', 'age': 30}.**"
      ],
      "metadata": {
        "id": "K0Zv2WfMNAaM"
      }
    },
    {
      "cell_type": "code",
      "source": [
        "dics_03={'name':'Alice','age':30}\n",
        "dics_03['name']"
      ],
      "metadata": {
        "colab": {
          "base_uri": "https://localhost:8080/",
          "height": 35
        },
        "id": "Euz4ocXTMLT4",
        "outputId": "1e4c3393-f6be-40e1-8de4-4ea0b177ad5b"
      },
      "execution_count": 68,
      "outputs": [
        {
          "output_type": "execute_result",
          "data": {
            "text/plain": [
              "'Alice'"
            ],
            "application/vnd.google.colaboratory.intrinsic+json": {
              "type": "string"
            }
          },
          "metadata": {},
          "execution_count": 68
        }
      ]
    },
    {
      "cell_type": "markdown",
      "source": [
        "**24.Write a code to remove the key \"age\" from the dictionary {'name': 'Bob', 'age': 22, 'city': 'New York'}.**"
      ],
      "metadata": {
        "id": "PariaD3GNRUK"
      }
    },
    {
      "cell_type": "code",
      "source": [
        "my_dict={'name': 'Bob', 'age': 22, 'city': 'New York'}\n",
        "del my_dict['age']\n",
        "my_dict"
      ],
      "metadata": {
        "colab": {
          "base_uri": "https://localhost:8080/"
        },
        "id": "KO78a1ThNQLO",
        "outputId": "5e6fefea-e81e-4875-ba58-890961a2d3ef"
      },
      "execution_count": 93,
      "outputs": [
        {
          "output_type": "execute_result",
          "data": {
            "text/plain": [
              "{'name': 'Bob', 'city': 'New York'}"
            ]
          },
          "metadata": {},
          "execution_count": 93
        }
      ]
    },
    {
      "cell_type": "markdown",
      "source": [
        "**25.Write a code to check if the key \"city\" exists in the dictionary {'name': 'Alice', 'city': 'Paris'}.**"
      ],
      "metadata": {
        "id": "9Uqh6Z_7N76y"
      }
    },
    {
      "cell_type": "code",
      "source": [
        "my_dict={'name': 'Alice', 'city': 'Paris'}\n",
        "value = my_dict.get('city')"
      ],
      "metadata": {
        "id": "YyPFEZGVNho0"
      },
      "execution_count": 97,
      "outputs": []
    },
    {
      "cell_type": "markdown",
      "source": [
        "**26.Write a code to create a list, a tuple, and a dictionary, and print them all.**"
      ],
      "metadata": {
        "id": "ZZNE8TOdPiKN"
      }
    },
    {
      "cell_type": "code",
      "source": [
        "list_01=[1,1.2,'list',4+6j]\n",
        "tuple_01=(1,2,3,'python')\n",
        "dict_01={\"name\":'Vishal','course':'data science'}\n",
        "print(list_01,tuple_01,dict_01)"
      ],
      "metadata": {
        "colab": {
          "base_uri": "https://localhost:8080/"
        },
        "id": "bR7GCoUBOzfR",
        "outputId": "912178ec-664c-4a5c-e17b-9e7a505845e0"
      },
      "execution_count": 75,
      "outputs": [
        {
          "output_type": "stream",
          "name": "stdout",
          "text": [
            "[1, 1.2, 'list', (4+6j)] (1, 2, 3, 'python') {'name': 'Vishal', 'course': 'data science'}\n"
          ]
        }
      ]
    },
    {
      "cell_type": "markdown",
      "source": [
        "**27.Write a code to create a list of 5 random numbers between 1 and 100, sort it in ascending order, and print the result.(replaced).**\n",
        "\n"
      ],
      "metadata": {
        "id": "d32wnmN5P9Ob"
      }
    },
    {
      "cell_type": "code",
      "source": [
        "list_06=[3,98,44,78,6]\n",
        "list_06.sort()\n",
        "list_06"
      ],
      "metadata": {
        "colab": {
          "base_uri": "https://localhost:8080/"
        },
        "id": "bPV1qLyYP3bm",
        "outputId": "540249d8-853e-4ffd-a6c7-c7815c7fc647"
      },
      "execution_count": 79,
      "outputs": [
        {
          "output_type": "execute_result",
          "data": {
            "text/plain": [
              "[3, 6, 44, 78, 98]"
            ]
          },
          "metadata": {},
          "execution_count": 79
        }
      ]
    },
    {
      "cell_type": "markdown",
      "source": [
        "**28.Write a code to create a list with strings and print the element at the third index.**"
      ],
      "metadata": {
        "id": "Dfc2jVvcQwFg"
      }
    },
    {
      "cell_type": "code",
      "source": [
        "my_list = [\"apple\", \"banana\", \"cherry\", \"date\", \"fig\"]\n",
        "print(my_list[2])"
      ],
      "metadata": {
        "colab": {
          "base_uri": "https://localhost:8080/"
        },
        "id": "WFt7TdHhQpeb",
        "outputId": "0cb1e619-fc9d-4cca-c19d-ae614d09a079"
      },
      "execution_count": 80,
      "outputs": [
        {
          "output_type": "stream",
          "name": "stdout",
          "text": [
            "cherry\n"
          ]
        }
      ]
    },
    {
      "cell_type": "markdown",
      "source": [
        "**29.Write a code to combine two dictionaries into one and print the result.**"
      ],
      "metadata": {
        "id": "tcBquBG-Q8dI"
      }
    },
    {
      "cell_type": "code",
      "source": [
        "dict_1 = {1: 'a', 2: 'b'}\n",
        "dict_2 = {2: 'c', 4: 'd'}\n",
        "print(dict_1 | dict_2)"
      ],
      "metadata": {
        "colab": {
          "base_uri": "https://localhost:8080/"
        },
        "id": "4xsa4afAQ3zq",
        "outputId": "05fcf10e-7137-416f-9892-a0da7a782078"
      },
      "execution_count": 81,
      "outputs": [
        {
          "output_type": "stream",
          "name": "stdout",
          "text": [
            "{1: 'a', 2: 'c', 4: 'd'}\n"
          ]
        }
      ]
    },
    {
      "cell_type": "markdown",
      "source": [
        "**30.Write a code to convert a list of strings into a set.**"
      ],
      "metadata": {
        "id": "LgeG9MsbRF9A"
      }
    },
    {
      "cell_type": "code",
      "source": [
        "s = \"vishal\"\n",
        "print(type(s))\n",
        "print(s)\n",
        "set_s = set(s)\n",
        "print(type(set_s))\n",
        "print(set_s)"
      ],
      "metadata": {
        "colab": {
          "base_uri": "https://localhost:8080/"
        },
        "id": "qhqeQ_7_REs6",
        "outputId": "3a82480c-a83f-42b3-daf0-e187630f81b8"
      },
      "execution_count": 85,
      "outputs": [
        {
          "output_type": "stream",
          "name": "stdout",
          "text": [
            "<class 'str'>\n",
            "vishal\n",
            "<class 'set'>\n",
            "{'l', 'h', 'i', 'a', 's', 'v'}\n"
          ]
        }
      ]
    }
  ]
}